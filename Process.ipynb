{
 "cells": [
  {
   "cell_type": "markdown",
   "metadata": {},
   "source": [
    "# Process\n"
   ]
  },
  {
   "cell_type": "markdown",
   "metadata": {},
   "source": [
    "## <b>Data cleaning </b>\n",
    "\n",
    "### 1. Altmetric data (each University)\n",
    " - read Altmetric CSV file\n",
    " - check Nan/None value [DOI]\n",
    " - check Nan/None value [Affiliations]\n",
    " - Mention Date spilt date and time ,make sure in same format\n",
    " - Publish Date make sure in same format\n",
    " - Check Mention URL and get Wiki Language\n",
    " - Altmetric Attention Score is int\n",
    " - *((Subjects (FoR) _spilt grid and subject or not))*\n",
    " - keep/drop columns  \n",
    "   <span style=\"color:orange\"> *data_extra = data_extra.dropna(axis=1, how='all')* </span>\n",
    " - \n",
    " - \n",
    " - \n",
    "\n",
    "### 2. Unpaywall \n",
    " - using Altmetric DOI to fetch the OA imformation of unpaywall\n",
    "     - Is_OA ,OA_Status => [OA_Type],OA_Locations, License_bestOA <br> \n",
    "      *((Genre ,title _confirm Altmetric*\n",
    " - gather imoformation to combine both to a file\n",
    "\n",
    "   <span style=\"color:orange\"> *pipeline function* </span> \n",
    "\n",
    "### 3.Alt-unpaywall New dataset\n",
    " - Check the data in correct format, position \n",
    " - Check [Is_OA]\n",
    " - Check [OA_stauts]/[OA_Type]\n",
    " - \n",
    " - \n",
    " - \n"
   ]
  },
  {
   "cell_type": "code",
   "execution_count": 6,
   "metadata": {},
   "outputs": [],
   "source": [
    "# to validate a url in Python? \n",
    "#https://stackoverflow.com/questions/7160737/how-to-validate-a-url-in-python-malformed-or-not\n",
    "\n",
    "#ISO Language Codes (639-1 and 639-2)\n",
    "#https://datasource.kapsarc.org/explore/dataset/iso-language-codes-639-1-and-639-2/information/?flg=en-gb\n",
    "#https://github.com/datasets/language-codes/blob/master/data/language-codes-3b2.csv"
   ]
  },
  {
   "cell_type": "markdown",
   "metadata": {},
   "source": [
    "<span style=\"color:purple\">_combine the data by Group_ <br>\n",
    "_Combine all data_</span>"
   ]
  },
  {
   "cell_type": "markdown",
   "metadata": {},
   "source": [
    "## __Calculation__ \n",
    "- Number counts of citations per university\n",
    "    - Total number per grouping\n",
    "- Percentage of citations per university of whole\n",
    "    - Percentage per group of four groups\n",
    "\n",
    "<br>\n",
    "\n",
    "- Number / Percentage of OA status per university (OA/Non-OA)\n",
    "- Number / Percentage of OA type per university ('closed' 'green' 'bronze' 'gold' 'hybrid' )\n",
    "\n",
    "---\n",
    "- Table\n",
    "- (( graph _ hist or ...\n"
   ]
  },
  {
   "cell_type": "markdown",
   "metadata": {},
   "source": [
    "## **Validation** \n",
    "- read Altmetric CSV file\n",
    "- check the amount of data \n",
    "- Randomly get {amount} DOI <br>\n",
    "     <span style=\"color:orange\"> *code a function* </span> \n",
    "- list DOI and manually check each OA status (/OA type) is correct or not\n",
    "<br>\n",
    "\n",
    "- record the result\n",
    "---\n",
    "- (Make a resultTable\n"
   ]
  },
  {
   "cell_type": "code",
   "execution_count": null,
   "metadata": {},
   "outputs": [],
   "source": []
  }
 ],
 "metadata": {
  "kernelspec": {
   "display_name": "Python 3",
   "language": "python",
   "name": "python3"
  },
  "language_info": {
   "codemirror_mode": {
    "name": "ipython",
    "version": 3
   },
   "file_extension": ".py",
   "mimetype": "text/x-python",
   "name": "python",
   "nbconvert_exporter": "python",
   "pygments_lexer": "ipython3",
   "version": "3.8.5"
  }
 },
 "nbformat": 4,
 "nbformat_minor": 5
}

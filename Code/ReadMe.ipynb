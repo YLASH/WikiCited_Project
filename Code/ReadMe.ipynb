{
 "cells": [
  {
   "cell_type": "markdown",
   "id": "81cf7d6f-432c-4954-b803-43cbc9ccc792",
   "metadata": {},
   "source": [
    "# READ ME\n",
    "\n",
    "design and thinking draf "
   ]
  },
  {
   "cell_type": "markdown",
   "id": "498077c0-86c3-4454-97b0-2aa8e81b2c77",
   "metadata": {},
   "source": [
    "# <b>Altmetric + Unpaywall_Data processing </b>"
   ]
  },
  {
   "cell_type": "markdown",
   "id": "e9733811-9a50-4328-943d-12fc6ddd8d76",
   "metadata": {},
   "source": [
    "#### Altmetric_Unpaywall_processingMS.ipynb and Altmetric_Unpaywall_processingAC.ipynb\n",
    "\n",
    "### 1. Altmetric data (each University)\n",
    "<span style=\"color:orange\"> <b> Function :</b> *Alt_data_check_clean (uni)* </span> \n",
    "\n",
    " - read Altmetric CSV file\n",
    " - Remove unncessaty column\n",
    "   columns =['Outlet or Author','Country','Mention Type','External Mention ID'],axis=1)\n",
    " - check Nan/None value [DOI]\n",
    "     - separate empty DOI and check whether with PubMed ID  \n",
    " - check Nan/None value [Affiliations]\n",
    " - Mention Date spilt date and time ,make sure in same format\n",
    " - Publish Date make sure in same format\n",
    " - Check Mention URL and get Wiki Language\n",
    " - Altmetric Attention Score is int\n",
    " - *((Subjects (FoR) _spilt grid and subject or not))*\n",
    " - keep/drop columns  \n",
    " - \n",
    " - \n",
    "\n",
    "### 2. Unpaywall \n",
    "<span style=\"color:orange\"> <b> Function :</b> *Unpaywalldata(uni,data_cl)* </span> \n",
    " - using Altmetric DOI to fetch the OA imformation of unpaywall\n",
    "     - Is_OA ,OA_Status => [OA_Type],OA_Locations, License_bestOA <br> \n",
    "      *((Genre ,title _confirm Altmetric*\n",
    " - gather imoformation to combine both to a file\n",
    "\n",
    "\n",
    "\n",
    "### 3.Alt-unpaywall New dataset\n",
    "<span style=\"color:orange\"> <b> Function :</b> *unpaywall_df_check(ndf)* </span> \n",
    "\n",
    " - Check the data in correct format, position, error catch \n",
    " - Check duplicate data\n",
    "     - remove True duplicate \n",
    " - Check [Is_OA]\n",
    " - Check [OA_stauts] and [OA_Type]\n",
    " - \n",
    " - \n",
    " - \n"
   ]
  },
  {
   "cell_type": "code",
   "execution_count": 2,
   "id": "79424bf4-c05c-44ff-85b1-b5b54261f1d7",
   "metadata": {},
   "outputs": [],
   "source": [
    "#Future Research\n",
    "# to validate a url in Python? \n",
    "#https://stackoverflow.com/questions/7160737/how-to-validate-a-url-in-python-malformed-or-not\n",
    "\n",
    "#ISO Language Codes (639-1 and 639-2)\n",
    "#https://datasource.kapsarc.org/explore/dataset/iso-language-codes-639-1-and-639-2/information/?flg=en-gb\n",
    "#https://github.com/datasets/language-codes/blob/master/data/language-codes-3b2.csv"
   ]
  },
  {
   "cell_type": "markdown",
   "id": "e778462e-8d51-4584-aad2-247f7c1d0384",
   "metadata": {},
   "source": [
    "### __Extracting number for analysis__ \n",
    "- Cleaned Data V.S. De-truly duplication Data V.S. De-potential duplication Data\n",
    " <br> # reraly truly duplication in Morden and Specialist unviersities,neglect to compare\n",
    "- Number counts of citations per university\n",
    "    - Total number per grouping\n",
    "- Percentage of citations per university of whole\n",
    "    - Percentage per group of four groups\n",
    "\n",
    "<br>\n",
    "\n",
    "- Number / Percentage of OA status per university (OA/Non-OA)\n",
    "- Number / Percentage of OA type per university ('closed' 'green' 'bronze' 'gold' 'hybrid' )\n",
    "\n",
    "---\n",
    "- Table\n",
    "- (( Visualiztion _Undone\n"
   ]
  },
  {
   "cell_type": "markdown",
   "id": "aafe9f67-1a6b-462d-a3c9-db51a1996b66",
   "metadata": {},
   "source": [
    "## **Smaple Validation**\n",
    "\n",
    "#### **Validation.ipynb**\n",
    "- read WikiOpenCite Cleaned CSV file\n",
    "- check the amount of data \n",
    "- Randomly get {amount} DOI <br>\n",
    "     <span style=\"color:orange\"> *code a function* </span> \n",
    "- list DOI and manually check each OA status (/OA type) is correct or not\n",
    "<br>\n",
    "---\n",
    "<b>Other Materil :Excel file. </b>\n",
    "- record the result\n",
    "    - 'validation_checking_GroupMS.xlsx' and  'validation_checking_GroupAC.xlsx' \n",
    "- (Make a resultTable\n",
    "    - 'WikiOpenCite_Data_Processing.xlsx'  'Validation' page\n"
   ]
  },
  {
   "cell_type": "markdown",
   "id": "251b2c2e-3c13-4dc2-aac1-af512378cf51",
   "metadata": {},
   "source": [
    "<span style=\"color:purple\">_combine the data by Group_ <br>\n",
    "_Combine all data_</span>"
   ]
  },
  {
   "cell_type": "markdown",
   "id": "a3265587-be85-461c-b28f-be5a60000a68",
   "metadata": {},
   "source": [
    "## **WikiOpenTool Data _data exporle with Python**\n",
    "\n",
    "#### **WikiOpenTool_Merge_analysis.ipynb**\n",
    "- read WikiOpenCite Cleaned CSV file\n",
    "- Try to do further analysis with python ((not performance really well ,and time constains did not include into disseration rep\n"
   ]
  },
  {
   "cell_type": "code",
   "execution_count": null,
   "id": "d009cfcd-d03d-4a81-88a6-1fd85e10514e",
   "metadata": {},
   "outputs": [],
   "source": []
  }
 ],
 "metadata": {
  "kernelspec": {
   "display_name": "Python 3 (ipykernel)",
   "language": "python",
   "name": "python3"
  },
  "language_info": {
   "codemirror_mode": {
    "name": "ipython",
    "version": 3
   },
   "file_extension": ".py",
   "mimetype": "text/x-python",
   "name": "python",
   "nbconvert_exporter": "python",
   "pygments_lexer": "ipython3",
   "version": "3.9.18"
  }
 },
 "nbformat": 4,
 "nbformat_minor": 5
}
